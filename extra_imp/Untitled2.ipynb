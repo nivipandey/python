{
 "cells": [
  {
   "cell_type": "code",
   "execution_count": 1,
   "metadata": {},
   "outputs": [
    {
     "name": "stdout",
     "output_type": "stream",
     "text": [
      "Thu Apr 11 20:36:51 2019\n"
     ]
    }
   ],
   "source": [
    "import time\n",
    "t=time.ctime()\n",
    "print(t)\n"
   ]
  },
  {
   "cell_type": "code",
   "execution_count": 5,
   "metadata": {},
   "outputs": [
    {
     "name": "stdout",
     "output_type": "stream",
     "text": [
      "enter a date21-01-2019\n",
      "day 021\n",
      "week:, Monday\n"
     ]
    }
   ],
   "source": [
    "from datetime import *\n",
    "d,m,y=[int(x) for x in input(\"enter a date\").split(\"-\")]\n",
    "dt=date(y,m,d)\n",
    "s1=dt.strftime(\"%j\")\n",
    "print(\"day\",s1)\n",
    "s2=dt.strftime(\"%A\")\n",
    "print(\"week:,\",s2)\n"
   ]
  },
  {
   "cell_type": "code",
   "execution_count": 7,
   "metadata": {},
   "outputs": [
    {
     "name": "stdout",
     "output_type": "stream",
     "text": [
      "enter year2016\n",
      "2016 is leap year\n"
     ]
    }
   ],
   "source": [
    "from calendar import *\n",
    "y=int(input(\"enter year\"))\n",
    "if(isleap(y)):\n",
    "    print(y,\"is leap year\")\n",
    "else:\n",
    "    print(y,\"is not leap\")\n"
   ]
  },
  {
   "cell_type": "code",
   "execution_count": null,
   "metadata": {},
   "outputs": [],
   "source": []
  },
  {
   "cell_type": "markdown",
   "metadata": {},
   "source": [
    "## "
   ]
  },
  {
   "cell_type": "code",
   "execution_count": null,
   "metadata": {},
   "outputs": [],
   "source": []
  },
  {
   "cell_type": "code",
   "execution_count": null,
   "metadata": {},
   "outputs": [],
   "source": []
  }
 ],
 "metadata": {
  "kernelspec": {
   "display_name": "Python 3",
   "language": "python",
   "name": "python3"
  },
  "language_info": {
   "codemirror_mode": {
    "name": "ipython",
    "version": 3
   },
   "file_extension": ".py",
   "mimetype": "text/x-python",
   "name": "python",
   "nbconvert_exporter": "python",
   "pygments_lexer": "ipython3",
   "version": "3.6.7"
  }
 },
 "nbformat": 4,
 "nbformat_minor": 2
}
